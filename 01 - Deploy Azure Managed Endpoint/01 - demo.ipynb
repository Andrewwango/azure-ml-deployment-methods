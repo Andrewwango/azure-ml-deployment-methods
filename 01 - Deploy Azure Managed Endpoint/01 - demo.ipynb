{
 "cells": [
  {
   "cell_type": "markdown",
   "id": "70c18ca7-b6e9-46ed-b2e0-497d07ee1e61",
   "metadata": {},
   "source": [
    "# Deploying models to Azure ACI using Azure ML"
   ]
  },
  {
   "cell_type": "markdown",
   "id": "48a5eb3d-4534-4a80-8e08-0d7c0dab95f1",
   "metadata": {},
   "source": [
    "Method:\n",
    "1. Train scikit-learn model\n",
    "2. (Optional) Track experiments with Azure ML workspace\n",
    "3. Register model to Azure ML workspace\n",
    "4. Deploy as web service to Azure ACI"
   ]
  },
  {
   "cell_type": "markdown",
   "id": "64c3e063-11ba-413a-8b4c-c0588d0f344a",
   "metadata": {},
   "source": [
    "## 1. Train scikit-learn model"
   ]
  },
  {
   "cell_type": "code",
   "execution_count": null,
   "id": "8f5fe31b-4b2c-440a-be53-b6ddd4be06c6",
   "metadata": {},
   "outputs": [],
   "source": [
    "import numpy as np\n",
    "import sklearn\n",
    "from sklearn.linear_model import Ridge\n",
    "from sklearn.metrics import r2_score\n",
    "import joblib\n",
    "\n",
    "X_train, y_train, X_test, y_test = [np.load(\"../data/diabetes.npz\")[x] for x in (\"X_train\", \"y_train\", \"X_test\", \"y_test\")]\n",
    "\n",
    "alpha=0.1\n",
    "\n",
    "model = Ridge(alpha=alpha).fit(X_train, y_train)\n",
    "\n",
    "joblib.dump(model, \"diabetes_model.pkl\")"
   ]
  },
  {
   "cell_type": "markdown",
   "id": "71019587-a0b9-474c-bda7-6c24daa25cd1",
   "metadata": {},
   "source": [
    "## 1.1 (Alternative) Download model from remote MLFlow"
   ]
  },
  {
   "cell_type": "markdown",
   "id": "d8a6fd3d-2304-4cfb-85c9-81c963406972",
   "metadata": {},
   "source": [
    "Note to be made here: Azure MLFlow deployment client only accepts models tracked in a native Azure MLFlow (see [02 - Deploy MLFlow endpoint](../02%20-%20Deploy%20MLFlow%20endpoint/02%20-%20demo.ipynb))). For models tracked elsewhere (e.g. MLFlow on AWS), we need to download the model and deploy this way instead."
   ]
  },
  {
   "cell_type": "code",
   "execution_count": null,
   "id": "802a4c41-0c19-4d9a-83c5-3d6594880c9d",
   "metadata": {
    "tags": []
   },
   "outputs": [],
   "source": [
    "import mlflow\n",
    "import joblib, os\n",
    "#os.environ[\"AWS_ACCESS_KEY_ID\"] = \"\" #if needed, set AWS credentials in local environment\n",
    "#os.environ[\"AWS_SECRET_ACCESS_KEY\"] = \"\"\n",
    "mlflow.set_tracking_uri(\"http://andre-mlflo-a3oi3g4g7sh1-6b98eef0c99b7004.elb.eu-central-1.amazonaws.com\")\n",
    "model = mlflow.sklearn.load_model(f\"models:/diabetes/1\")\n",
    "joblib.dump(model, \"diabetes_model.pkl\")"
   ]
  },
  {
   "cell_type": "markdown",
   "id": "ed9d5e95-f261-4cee-bb6f-ce94770f84c8",
   "metadata": {},
   "source": [
    "# 2. (Optional) Track experiments with Azure ML workspace"
   ]
  },
  {
   "cell_type": "code",
   "execution_count": null,
   "id": "5cb5e142-a9a7-4e87-bfb6-b67c7c208c27",
   "metadata": {},
   "outputs": [],
   "source": [
    "from azureml.core import Workspace\n",
    "ws = Workspace.from_config()"
   ]
  },
  {
   "cell_type": "code",
   "execution_count": null,
   "id": "877ddddc-7052-4299-851c-9b7ff7f0e1f4",
   "metadata": {},
   "outputs": [],
   "source": [
    "from azureml.core import Experiment\n",
    "\n",
    "experiment = Experiment(workspace=ws, name=\"train-diabetes-regression\")\n",
    "run = experiment.start_logging()\n",
    "\n",
    "run.log('alpha', alpha)\n",
    "run.log('R2', r2_score(y_test, model.predict(X_test)))\n",
    "run.upload_file(name=\"diabetes_model.pkl\", path_or_stream=\"./diabetes_model.pkl\")\n",
    "\n",
    "run.complete()"
   ]
  },
  {
   "cell_type": "markdown",
   "id": "3110b823-1636-4a28-ac05-4293f99e0e02",
   "metadata": {},
   "source": [
    "# 3. Register model to Azure ML Workspace"
   ]
  },
  {
   "cell_type": "code",
   "execution_count": null,
   "id": "3978331a-e483-4101-90aa-6dd09f9fbddd",
   "metadata": {},
   "outputs": [],
   "source": [
    "from azureml.core import Model\n",
    "from azureml.core.resource_configuration import ResourceConfiguration\n",
    "import sklearn\n",
    "\n",
    "model = Model.register(workspace=ws,\n",
    "                       model_name=\"diabetes_model\",\n",
    "                       model_path=\"./diabetes_model.pkl\",\n",
    "                       model_framework=Model.Framework.SCIKITLEARN,\n",
    "                       model_framework_version=sklearn.__version__, ## make sure sklearn version is same as sklearn in which model was trained!\n",
    "                       resource_configuration=ResourceConfiguration(cpu=1, memory_in_gb=0.5),\n",
    "                       description='Ridge regression to predict diabetes progression.',\n",
    "                       tags={'area': 'diabetes', 'type': 'regression'})"
   ]
  },
  {
   "cell_type": "markdown",
   "id": "4b13a7e6-16f2-4c77-a3b7-79d610462088",
   "metadata": {},
   "source": [
    "If the experiment is being tracked in Azure ML workspace (i.e. following Section 2), then the model can be directly registered from the run:"
   ]
  },
  {
   "cell_type": "code",
   "execution_count": null,
   "id": "6dc64d2c-c6c2-48cc-b638-03cce261296c",
   "metadata": {},
   "outputs": [],
   "source": [
    "run.register_model(model_path=\"./diabetes_model.pkl\", model_name='diabetes_model')"
   ]
  },
  {
   "cell_type": "markdown",
   "id": "ae06db47-c9f2-471b-9444-2864d97b3ccc",
   "metadata": {},
   "source": [
    "# 4. Deploy as web service to Azure ACI"
   ]
  },
  {
   "cell_type": "markdown",
   "id": "c3b9a363-7d47-4b90-9263-d137ea9636c3",
   "metadata": {},
   "source": [
    "Below is a \"no-code\" approach - Azure ML will detect the environment and appropriate inference function (in this case, `sklearn.estimator.predict`)"
   ]
  },
  {
   "cell_type": "code",
   "execution_count": null,
   "id": "e14c8cdd-1b93-4b88-aafb-7487e3ad09da",
   "metadata": {},
   "outputs": [],
   "source": [
    "service = Model.deploy(ws, 'my-sklearn-service1', [model], overwrite=True)\n",
    "service.wait_for_deployment(show_output=True)"
   ]
  },
  {
   "cell_type": "code",
   "execution_count": null,
   "id": "b56d5ab2-a3da-489a-a364-1b608821eba8",
   "metadata": {},
   "outputs": [],
   "source": [
    "endpoint = service.scoring_uri\n",
    "print(endpoint)"
   ]
  },
  {
   "cell_type": "markdown",
   "id": "9627e7b4-dca9-45eb-9945-e9b5d099176b",
   "metadata": {},
   "source": [
    "## 4.1 (Alternative) Deploy with specific inference function and environment"
   ]
  },
  {
   "cell_type": "code",
   "execution_count": null,
   "id": "495337cf-c70a-45d7-8612-59eafe1166d4",
   "metadata": {},
   "outputs": [],
   "source": [
    "%%writefile diabetes_model_inference.py\n",
    "import json, joblib, os\n",
    "import numpy as np\n",
    "\n",
    "def init():\n",
    "    global model\n",
    "    model = joblib.load(os.path.join(os.getenv('AZUREML_MODEL_DIR'), 'diabetes_model.pkl'))\n",
    "\n",
    "def run(raw_data):\n",
    "    predictions = model.predict(np.array(json.loads(raw_data)['data'])).tolist()\n",
    "    return json.dumps(predictions)"
   ]
  },
  {
   "cell_type": "code",
   "execution_count": null,
   "id": "ecb0ed4d-8159-456e-9982-a4485b3bc831",
   "metadata": {
    "tags": []
   },
   "outputs": [],
   "source": [
    "from azureml.core.model import InferenceConfig, Environment\n",
    "\n",
    "service_env = Environment.get(workspace=ws, name=\"AzureML-sklearn-0.24.1-ubuntu18.04-py37-cpu-inference\")\n",
    "service_env.inferencing_stack_version=\"latest\"\n",
    "inference_config=InferenceConfig(entry_script=\"diabetes_model_inference.py\",\n",
    "                                environment=service_env)\n",
    "\n",
    "service = Model.deploy(ws, 'my-sklearn-service2', [model], inference_config, overwrite=True)\n",
    "service.wait_for_deployment(show_output=True)"
   ]
  },
  {
   "cell_type": "markdown",
   "id": "e4ce1c83-61c8-4be4-b696-388e20ef551c",
   "metadata": {
    "tags": []
   },
   "source": [
    "# Test endpoint and delete"
   ]
  },
  {
   "cell_type": "code",
   "execution_count": null,
   "id": "1858ab82-92bc-4d3b-947e-a139ee7a0c9f",
   "metadata": {},
   "outputs": [],
   "source": [
    "import requests\n",
    "import json\n",
    "\n",
    "input_payload = json.dumps({\n",
    "    'data': X_test[0:2].tolist(),\n",
    "})\n",
    "\n",
    "requests.post(endpoint, input_payload, headers={'Content-Type':'application/json'}).json()"
   ]
  },
  {
   "cell_type": "markdown",
   "id": "e87564ac-782c-4ecb-97d7-53c28f39258d",
   "metadata": {},
   "source": [
    "Alternatively, if the service is still loaded in memory:"
   ]
  },
  {
   "cell_type": "code",
   "execution_count": null,
   "id": "c430466d-97d3-4006-a0e6-a857633a96e2",
   "metadata": {},
   "outputs": [],
   "source": [
    "service.run(input_payload)"
   ]
  },
  {
   "cell_type": "markdown",
   "id": "e89b6d67-9c36-46e4-a6ef-7bec7063a07e",
   "metadata": {},
   "source": [
    "Make sure to delete endpoint after use:"
   ]
  },
  {
   "cell_type": "code",
   "execution_count": null,
   "id": "c802a5e3-0f29-4481-8c38-4b9a23e31dd1",
   "metadata": {},
   "outputs": [],
   "source": [
    "service.delete()"
   ]
  },
  {
   "cell_type": "markdown",
   "id": "ec0e125b-205d-4e16-a803-820c0d3f5af9",
   "metadata": {},
   "source": [
    "# Manage"
   ]
  },
  {
   "cell_type": "markdown",
   "id": "fb056280-7380-41d3-a4ec-3d378d9f7720",
   "metadata": {},
   "source": [
    "You can monitor and manage the endpoint under \"Endpoints\" in the Azure ML Studio UI."
   ]
  },
  {
   "cell_type": "markdown",
   "id": "4724b655-77cc-4844-b6ad-48ffe38233a2",
   "metadata": {},
   "source": [
    "# References"
   ]
  },
  {
   "cell_type": "markdown",
   "id": "01def21c-d091-4cc6-8d39-0ed15e98090b",
   "metadata": {},
   "source": [
    "https://github.com/Azure/MachineLearningNotebooks/blob/master/how-to-use-azureml/deployment/deploy-to-cloud/model-register-and-deploy.ipynb"
   ]
  },
  {
   "cell_type": "markdown",
   "id": "17da73ab-7e71-4e1e-a88c-1d6ce3fb717b",
   "metadata": {},
   "source": [
    "https://github.com/MicrosoftLearning/mslearn-dp100/blob/main/09%20-%20Create%20a%20Real-time%20Inferencing%20Service.ipynb"
   ]
  }
 ],
 "metadata": {
  "kernel_info": {
   "name": "python38-azureml"
  },
  "kernelspec": {
   "display_name": "Python 3.8 - AzureML",
   "language": "python",
   "name": "python38-azureml"
  },
  "language_info": {
   "codemirror_mode": {
    "name": "ipython",
    "version": 3
   },
   "file_extension": ".py",
   "mimetype": "text/x-python",
   "name": "python",
   "nbconvert_exporter": "python",
   "pygments_lexer": "ipython3",
   "version": "3.8.5"
  },
  "nteract": {
   "version": "nteract-front-end@1.0.0"
  }
 },
 "nbformat": 4,
 "nbformat_minor": 5
}
