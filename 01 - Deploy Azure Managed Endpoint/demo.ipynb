{
 "cells": [
  {
   "cell_type": "markdown",
   "id": "70c18ca7-b6e9-46ed-b2e0-497d07ee1e61",
   "metadata": {},
   "source": [
    "# Deploying models to Azure Managed Endpoints using Azure Machine Learning"
   ]
  },
  {
   "cell_type": "markdown",
   "id": "a6f81452-6273-4f42-8435-ea28140cbde5",
   "metadata": {},
   "source": [
    "Following this [tutorial](https://learn.microsoft.com/en-us/azure/machine-learning/how-to-deploy-online-endpoints?tabs=python). Note that this is the most up-to-date method using the Python SDK v2 `azure-ai-ml`, and all tutorials using `azureml-core` (e.g. [dp100](https://github.com/MicrosoftLearning/mslearn-dp100/blob/main/09%20-%20Create%20a%20Real-time%20Inferencing%20Service.ipynb) or [this demo](https://github.com/Azure/MachineLearningNotebooks/blob/master/how-to-use-azureml/deployment/deploy-to-cloud/model-register-and-deploy.ipynb)) are outdated, see [this blog](https://learn.microsoft.com/en-us/azure/machine-learning/how-to-migrate-from-v1) for more info. \n",
    "\n",
    "Steps:\n",
    "1. Setup Azure Machine Learning workspace and Azure Managed Online Endpoint.\n",
    "2. Deploy model\n",
    "3. Test model\n",
    "4. Delete endpoint\n",
    "\n",
    "Take model from:"
   ]
  },
  {
   "cell_type": "code",
   "execution_count": null,
   "id": "a4f1f3de-fda0-4265-856c-75c466e11f27",
   "metadata": {},
   "outputs": [],
   "source": [
    "model_path = \"../models/model.pkl\""
   ]
  },
  {
   "cell_type": "code",
   "execution_count": null,
   "id": "10d798e0-0352-4b6e-b093-ee2a1ca78ed0",
   "metadata": {},
   "outputs": [],
   "source": [
    "workspace = \"azure-ml-deployment-methods\"\n",
    "resource_group = \"azure-cognitive-services-accelerator\""
   ]
  },
  {
   "cell_type": "markdown",
   "id": "8b42bd72-d4c9-41a5-81e0-85671505ee66",
   "metadata": {},
   "source": [
    "## 1. Setup\n",
    "### 1.1 Setup Azure Machine Learning \n",
    "First [create a new Azure Machine Learning workspace in the Azure portal](https://portal.azure.com/#view/Microsoft_Azure_MLTeamAccounts/CreateMachineLearningServicesBladeV2)."
   ]
  },
  {
   "cell_type": "code",
   "execution_count": null,
   "id": "ff111745-41fe-4f9d-adcd-2f48d08d4368",
   "metadata": {},
   "outputs": [],
   "source": [
    "subscription_id = !az account show --query id"
   ]
  },
  {
   "cell_type": "markdown",
   "id": "14d60b99-104f-40eb-b716-ff09a52a0c61",
   "metadata": {},
   "source": [
    "Connect to Azure ML workspace"
   ]
  },
  {
   "cell_type": "code",
   "execution_count": null,
   "id": "6579bbf7-1b30-47dc-8b7b-fd88d796de7a",
   "metadata": {},
   "outputs": [],
   "source": [
    "from azure.ai.ml import MLClient\n",
    "from azure.identity import DefaultAzureCredential\n",
    "\n",
    "client = MLClient(DefaultAzureCredential(), subscription_id[0][1:-1], resource_group, workspace)"
   ]
  },
  {
   "cell_type": "markdown",
   "id": "3110b823-1636-4a28-ac05-4293f99e0e02",
   "metadata": {},
   "source": [
    "### 1.2 Setup Azure Managed Online Endpoint"
   ]
  },
  {
   "cell_type": "code",
   "execution_count": null,
   "id": "4817f384-567b-4204-b8a8-61c0cd2b04dc",
   "metadata": {},
   "outputs": [],
   "source": [
    "from azure.ai.ml.entities import ManagedOnlineEndpoint\n",
    "\n",
    "endpoint = ManagedOnlineEndpoint(\n",
    "    name=\"sample-model-endpoint\",\n",
    "    description=\"A sample ML model deployment to Managed Endpoints\",\n",
    "    auth_mode=\"key\",\n",
    "    tags={'area': 'diabetes', 'type': 'regression'},\n",
    ")"
   ]
  },
  {
   "cell_type": "code",
   "execution_count": null,
   "id": "a9d87da8-c178-4bf4-8d76-d0d20ac6fa7a",
   "metadata": {},
   "outputs": [],
   "source": [
    "client.online_endpoints.begin_create_or_update(endpoint).result()"
   ]
  },
  {
   "cell_type": "markdown",
   "id": "3405470a-742b-4447-8342-78c304335a9b",
   "metadata": {
    "tags": []
   },
   "source": [
    "## 2. Deploy model to endpoint"
   ]
  },
  {
   "cell_type": "code",
   "execution_count": null,
   "id": "dbcbc780-64b1-4d2d-a296-299dfd411b27",
   "metadata": {},
   "outputs": [],
   "source": [
    "from azure.ai.ml.entities import ManagedOnlineDeployment, Model, Environment, CodeConfiguration"
   ]
  },
  {
   "cell_type": "markdown",
   "id": "30813283-7120-4f22-b236-434f8e5a13d8",
   "metadata": {},
   "source": [
    "Configure deployment: select environment and model. Here we use a base Ubuntu image and add conda dependencies."
   ]
  },
  {
   "cell_type": "code",
   "execution_count": null,
   "id": "170f02ba-8f4b-41d5-8add-db9988ffb319",
   "metadata": {},
   "outputs": [],
   "source": [
    "!mkdir files"
   ]
  },
  {
   "cell_type": "code",
   "execution_count": null,
   "id": "495337cf-c70a-45d7-8612-59eafe1166d4",
   "metadata": {},
   "outputs": [],
   "source": [
    "%%writefile files/inference.py\n",
    "import json, joblib, os\n",
    "import numpy as np\n",
    "\n",
    "def init():\n",
    "    global model\n",
    "    model = joblib.load(os.path.join(os.getenv('AZUREML_MODEL_DIR'), 'model.pkl'))\n",
    "\n",
    "def run(raw_data):\n",
    "    predictions = model.predict(np.array(json.loads(raw_data)['data'])).tolist()\n",
    "    return json.dumps(predictions)"
   ]
  },
  {
   "cell_type": "code",
   "execution_count": null,
   "id": "d0e7550b-7510-431d-9504-019fe1194b1a",
   "metadata": {},
   "outputs": [],
   "source": [
    "%%writefile files/conda.yml\n",
    "name: model-env\n",
    "channels:\n",
    "  - defaults\n",
    "dependencies:\n",
    "  - python=3.7\n",
    "  - pip\n",
    "  - pip:\n",
    "    - scikit-learn\n",
    "    - joblib\n",
    "    - azureml-defaults\n",
    "    - inference-schema[numpy-support]"
   ]
  },
  {
   "cell_type": "code",
   "execution_count": null,
   "id": "7c6e36ca-0448-4afd-82a0-1fa0a04e2c3f",
   "metadata": {},
   "outputs": [],
   "source": [
    "model = Model(path=\"../models/model.pkl\")\n",
    "\n",
    "env = env = Environment(\n",
    "    conda_file=\"files/conda.yml\",\n",
    "    image=\"mcr.microsoft.com/azureml/openmpi4.1.0-ubuntu20.04:latest\",\n",
    ")\n",
    "\n",
    "code_config = CodeConfiguration(code=\"files\", scoring_script=\"inference.py\")"
   ]
  },
  {
   "cell_type": "markdown",
   "id": "6fabd2a5-7c92-4856-a305-5c1fe3d2ca43",
   "metadata": {},
   "source": [
    "Create deployment and connect to endpoint"
   ]
  },
  {
   "cell_type": "code",
   "execution_count": null,
   "id": "ef70e45d-8d85-4abd-95ed-bb7a29a0e3cb",
   "metadata": {},
   "outputs": [],
   "source": [
    "deployment = ManagedOnlineDeployment(\n",
    "    name=\"blue\",\n",
    "    endpoint_name=\"sample-model-endpoint\",\n",
    "    model=model,\n",
    "    environment=env,\n",
    "    code_configuration=code_config,\n",
    "    instance_type=\"Standard_DS2_v2\",\n",
    "    instance_count=1,\n",
    ")"
   ]
  },
  {
   "cell_type": "markdown",
   "id": "a9b90c9e-5b61-40cc-bea9-a49b2df9f22b",
   "metadata": {},
   "source": [
    "Deploy. This creates a deployment which you can view in `Azure Machine Learning Studio`/`Endpoints`/`<name>`"
   ]
  },
  {
   "cell_type": "code",
   "execution_count": null,
   "id": "85d7a21e-7c97-43cd-89cc-199ca3972458",
   "metadata": {},
   "outputs": [],
   "source": [
    "client.online_deployments.begin_create_or_update(deployment).result()"
   ]
  },
  {
   "cell_type": "code",
   "execution_count": null,
   "id": "de08fc56-a1e9-4726-a1d8-eb23546dafd8",
   "metadata": {},
   "outputs": [],
   "source": [
    "endpoint.traffic = {\"blue\": 100}\n",
    "client.begin_create_or_update(endpoint)"
   ]
  },
  {
   "cell_type": "markdown",
   "id": "e4ce1c83-61c8-4be4-b696-388e20ef551c",
   "metadata": {
    "tags": []
   },
   "source": [
    "## 3. Test endpoint"
   ]
  },
  {
   "cell_type": "markdown",
   "id": "7462f1ab-45e1-4b18-b623-f6089d81784c",
   "metadata": {},
   "source": [
    "Grab API key from `Azure Machine Learning Studio`/`Endpoints`/`<name>`/`Consume`"
   ]
  },
  {
   "cell_type": "code",
   "execution_count": null,
   "id": "f0ff52b1-55ab-481d-9ff5-e505850fd0a5",
   "metadata": {},
   "outputs": [],
   "source": [
    "uri = client.online_endpoints.get(name=\"sample-model-endpoint\").scoring_uri\n",
    "key = \"\""
   ]
  },
  {
   "cell_type": "code",
   "execution_count": 56,
   "id": "1858ab82-92bc-4d3b-947e-a139ee7a0c9f",
   "metadata": {},
   "outputs": [
    {
     "data": {
      "text/plain": [
       "'[230.86996560914233, 241.27351292981544]'"
      ]
     },
     "execution_count": 56,
     "metadata": {},
     "output_type": "execute_result"
    }
   ],
   "source": [
    "import requests\n",
    "import json\n",
    "import numpy as np\n",
    "\n",
    "input_payload = json.dumps({\n",
    "    'data': np.load(\"../data/diabetes.npz\")[\"X_test\"][:2].tolist(),\n",
    "})\n",
    "\n",
    "requests.post(uri, input_payload, headers={\n",
    "    'Content-Type':'application/json', \n",
    "    'Authorization':('Bearer '+key)\n",
    "}).json()"
   ]
  },
  {
   "cell_type": "markdown",
   "id": "ec0e125b-205d-4e16-a803-820c0d3f5af9",
   "metadata": {},
   "source": [
    "## 4. Delete"
   ]
  },
  {
   "cell_type": "code",
   "execution_count": null,
   "id": "a89c4d51-4aba-461d-8a1c-1c1a809cac86",
   "metadata": {},
   "outputs": [],
   "source": [
    "client.online_endpoints.begin_delete(name=\"sample-model-endpoint\")"
   ]
  },
  {
   "cell_type": "code",
   "execution_count": null,
   "id": "c07c3e92-b6ac-4cdd-bef2-548fb9bcaee9",
   "metadata": {},
   "outputs": [
    {
     "name": "stdout",
     "output_type": "stream",
     "text": [
      "....................................."
     ]
    }
   ],
   "source": [
    "!rm -r files"
   ]
  }
 ],
 "metadata": {
  "kernel_info": {
   "name": "python38-azureml"
  },
  "kernelspec": {
   "display_name": "Python 3 (ipykernel)",
   "language": "python",
   "name": "python3"
  },
  "language_info": {
   "codemirror_mode": {
    "name": "ipython",
    "version": 3
   },
   "file_extension": ".py",
   "mimetype": "text/x-python",
   "name": "python",
   "nbconvert_exporter": "python",
   "pygments_lexer": "ipython3",
   "version": "3.10.8"
  },
  "nteract": {
   "version": "nteract-front-end@1.0.0"
  }
 },
 "nbformat": 4,
 "nbformat_minor": 5
}
