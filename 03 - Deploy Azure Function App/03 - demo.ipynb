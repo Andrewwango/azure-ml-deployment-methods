{
 "cells": [
  {
   "cell_type": "markdown",
   "id": "a0180497-43fa-4572-a520-d9ccfecb521b",
   "metadata": {},
   "source": [
    "# Deploying models using a serverless Azure Function"
   ]
  },
  {
   "cell_type": "markdown",
   "id": "3648974f-634a-4739-adaa-d9fad1fc914e",
   "metadata": {},
   "source": [
    "Method:\n",
    "1. Train scikit-learn model\n",
    "2. Create Azure function\n",
    "3. Create Azure function app and publish"
   ]
  },
  {
   "cell_type": "markdown",
   "id": "d2c414ee-2687-4d51-afee-e09e8581346a",
   "metadata": {},
   "source": [
    "# 1. Train"
   ]
  },
  {
   "cell_type": "code",
   "execution_count": null,
   "id": "3836710a-2b08-487a-a94c-cd59a6317013",
   "metadata": {},
   "outputs": [],
   "source": [
    "import numpy as np\n",
    "import sklearn\n",
    "from sklearn.linear_model import Ridge\n",
    "from sklearn.metrics import r2_score\n",
    "import joblib\n",
    "\n",
    "X_train, y_train, X_test, y_test = [np.load(\"../data/diabetes.npz\")[x] for x in (\"X_train\", \"y_train\", \"X_test\", \"y_test\")]\n",
    "\n",
    "alpha=0.1\n",
    "\n",
    "model = Ridge(alpha=alpha).fit(X_train, y_train)\n",
    "\n",
    "joblib.dump(model, \"diabetes_model.pkl\")"
   ]
  },
  {
   "cell_type": "markdown",
   "id": "41b9e63c-916b-4dee-b154-1a46bc71aa44",
   "metadata": {},
   "source": [
    "# 2. Create Azure Function"
   ]
  },
  {
   "cell_type": "markdown",
   "id": "ecd5fad5-fe16-48a3-bc57-080f7e0f17d0",
   "metadata": {},
   "source": [
    "We need to setup the Azure CLI to get started. First update the CLI:"
   ]
  },
  {
   "cell_type": "code",
   "execution_count": null,
   "id": "2c3df561-98b7-4bac-9da3-fc13e0b768f3",
   "metadata": {
    "tags": []
   },
   "outputs": [],
   "source": [
    "!sudo apt-get install --only-upgrade azure-cli"
   ]
  },
  {
   "cell_type": "markdown",
   "id": "351a6aa7-7f6d-49ed-8fa5-31008338b017",
   "metadata": {},
   "source": [
    "Install Azure Functions CLI package following [the docs](https://docs.microsoft.com/en-us/azure/azure-functions/functions-run-local?tabs=v4%2Clinux%2Ccsharp%2Cportal%2Cbash#v2):"
   ]
  },
  {
   "cell_type": "code",
   "execution_count": null,
   "id": "829db22b-b7de-419a-8349-c7801c88b200",
   "metadata": {
    "tags": []
   },
   "outputs": [],
   "source": [
    "!curl https://packages.microsoft.com/keys/microsoft.asc | gpg --dearmor > microsoft.gpg\n",
    "!sudo mv microsoft.gpg /etc/apt/trusted.gpg.d/microsoft.gpg\n",
    "!sudo sh -c 'echo \"deb [arch=amd64] https://packages.microsoft.com/repos/microsoft-ubuntu-$(lsb_release -cs)-prod $(lsb_release -cs) main\" > /etc/apt/sources.list.d/dotnetdev.list'\n",
    "!sudo apt-get update\n",
    "!sudo apt-get install azure-functions-core-tools-4 -y"
   ]
  },
  {
   "cell_type": "markdown",
   "id": "479547bd-7fc8-45c6-8842-530d3acd1e83",
   "metadata": {},
   "source": [
    "Login to Azure CLI. Make sure you are using an account under the correct subscription (change using `--tenant <TENANT_ID>` option)."
   ]
  },
  {
   "cell_type": "code",
   "execution_count": null,
   "id": "0df6cdfe-49b4-4fc1-8d7d-4b16fb4202c2",
   "metadata": {
    "tags": []
   },
   "outputs": [],
   "source": [
    "!az login"
   ]
  },
  {
   "cell_type": "code",
   "execution_count": null,
   "id": "f1fa2b62-2138-4df2-bf97-b9a5123fb5be",
   "metadata": {},
   "outputs": [],
   "source": [
    "!az login --tenant f2ec3ef9-cca6-46ec-be61-845d74fcae94"
   ]
  },
  {
   "cell_type": "markdown",
   "id": "7346ba35-10c5-40dd-87de-a1b72e310287",
   "metadata": {},
   "source": [
    "Initialise local function project folder:"
   ]
  },
  {
   "cell_type": "code",
   "execution_count": null,
   "id": "07e54614-c3eb-41c0-a2f5-62110340776a",
   "metadata": {
    "tags": []
   },
   "outputs": [],
   "source": [
    "!func init DiabetesInferenceFunctionProject --python"
   ]
  },
  {
   "cell_type": "code",
   "execution_count": null,
   "id": "89cbfa23-22bf-4901-8162-4568c14d3cc9",
   "metadata": {},
   "outputs": [],
   "source": [
    "%cd DiabetesInferenceFunctionProject"
   ]
  },
  {
   "cell_type": "markdown",
   "id": "163efa85-c0c2-4156-b95e-0b91ba54eba7",
   "metadata": {},
   "source": [
    "Create new function that is triggered by HTTP:"
   ]
  },
  {
   "cell_type": "code",
   "execution_count": null,
   "id": "69c9389f-2452-454f-94f5-3efe1983b570",
   "metadata": {
    "tags": []
   },
   "outputs": [],
   "source": [
    "!func new --name DiabetesInferenceFunction --template \"HTTP trigger\" --authlevel \"anonymous\" --worker-runtime python"
   ]
  },
  {
   "cell_type": "markdown",
   "id": "6b42e891-fc48-4170-bc67-b6ee13297a30",
   "metadata": {},
   "source": [
    "Copy scikit-learn model and add inferencing script + dependencies. Make sure scikit-learn is same version in which model was created otherwise may get compatibility errors (e.g. see [here](https://github.com/scikit-learn/scikit-learn/issues/24387) for common scikit-learn error and see [here](https://github.com/scikit-image/scikit-image/issues/5060) for a python3.8 vs 3.9 issue for older sklearn versions)"
   ]
  },
  {
   "cell_type": "code",
   "execution_count": null,
   "id": "fc1ab04d-d697-4a75-9c12-39c49b36c85a",
   "metadata": {},
   "outputs": [],
   "source": [
    "!cp ../diabetes_model.pkl DiabetesInferenceFunction"
   ]
  },
  {
   "cell_type": "code",
   "execution_count": null,
   "id": "675a0cec-7261-4c52-85bf-ecba18d44901",
   "metadata": {},
   "outputs": [],
   "source": [
    "%%writefile -a requirements.txt\n",
    "\n",
    "numpy\n",
    "scikit-learn==0.22.1"
   ]
  },
  {
   "cell_type": "code",
   "execution_count": null,
   "id": "d0976eb4-d24f-426b-9e27-ab54ce333c90",
   "metadata": {},
   "outputs": [],
   "source": [
    "%%writefile DiabetesInferenceFunction/__init__.py\n",
    "import azure.functions as func\n",
    "import numpy as np\n",
    "import logging, sklearn, joblib, json\n",
    "\n",
    "def main(req: func.HttpRequest) -> func.HttpResponse:\n",
    "    logging.info(sklearn.__version__) # check this matches sklearn version in which model was trained\n",
    "    pred = joblib.load('DiabetesInferenceFunction/diabetes_model.pkl').predict(np.array(req.get_json()['data']))\n",
    "    return func.HttpResponse(json.dumps({\"prediction\": pred.tolist()}))"
   ]
  },
  {
   "cell_type": "markdown",
   "id": "9d52c422-51a3-4243-924e-d08d91ff10e5",
   "metadata": {
    "tags": []
   },
   "source": [
    "Optional: test model locally using `func start` in a new terminal and query local API with requests in Test section below."
   ]
  },
  {
   "cell_type": "markdown",
   "id": "85bcdf7e-d22b-4a7a-8309-b5991164b2c4",
   "metadata": {},
   "source": [
    "# 3. Create Azure function app and publish"
   ]
  },
  {
   "cell_type": "markdown",
   "id": "fbcbeb4b-e1c0-4d9c-ac39-dd1d9dd706cc",
   "metadata": {},
   "source": [
    "Create storage account under appropriate resource group (ideally keep all assets under same resource group for cost tracking). From here on we use resource group `data-ai-academy-sept-2022`:"
   ]
  },
  {
   "cell_type": "code",
   "execution_count": null,
   "id": "15cadd18-ef4c-46d8-99bc-92469467ecc4",
   "metadata": {
    "tags": []
   },
   "outputs": [],
   "source": [
    "!az storage account create --name diabetesfunctionstorage2 --resource-group data-ai-academy-sept-2022 --sku Standard_LRS"
   ]
  },
  {
   "cell_type": "markdown",
   "id": "e5014d41-b77b-4b00-8951-08d022ace124",
   "metadata": {},
   "source": [
    "Create function app under same resource group and location. Check that runtime-version is the same as python version in which model was created/compatible with the sklearn version."
   ]
  },
  {
   "cell_type": "code",
   "execution_count": null,
   "id": "058ba6f5-6548-4b2f-813e-708764e3ce8f",
   "metadata": {
    "tags": []
   },
   "outputs": [],
   "source": [
    "!az functionapp create --resource-group data-ai-academy-sept-2022 --consumption-plan-location uksouth --runtime python --runtime-version 3.8 --functions-version 4 --name DiabetesInferenceFunctionApp --os-type linux --storage-account diabetesfunctionstorage2"
   ]
  },
  {
   "cell_type": "markdown",
   "id": "4b3b787e-0234-4f1d-a493-93c0dc17749c",
   "metadata": {
    "tags": []
   },
   "source": [
    "!az functionapp update --resource-group andreww-academy --name DiabetesInferenceFunctionApp"
   ]
  },
  {
   "cell_type": "markdown",
   "id": "7a686887-3dee-4fc1-9045-c211bc9688db",
   "metadata": {},
   "source": [
    "Publish function app (i.e. deploy). If first time results in Deploy Failed, just try rerunning the command (**shrugs shoulders**). Take note of the invoke URL at the end for API queries."
   ]
  },
  {
   "cell_type": "code",
   "execution_count": null,
   "id": "d423113b-dce7-46f9-8808-bf2185096d33",
   "metadata": {
    "tags": []
   },
   "outputs": [],
   "source": [
    "!func azure functionapp publish DiabetesInferenceFunctionApp"
   ]
  },
  {
   "cell_type": "code",
   "execution_count": null,
   "id": "d9250da6-6440-4d00-91af-2b4f2eab0f7e",
   "metadata": {},
   "outputs": [],
   "source": [
    "endpoint_url = \"https://diabetesinferencefunctionapp.azurewebsites.net/api/diabetesinferencefunction\""
   ]
  },
  {
   "cell_type": "markdown",
   "id": "611f2924-82d5-489a-a6f0-da7d200324bf",
   "metadata": {},
   "source": [
    "# Test endpoint and delete"
   ]
  },
  {
   "cell_type": "code",
   "execution_count": null,
   "id": "51891127-5f3e-44dc-85cb-5255592a0ded",
   "metadata": {},
   "outputs": [],
   "source": [
    "import requests\n",
    "import json\n",
    "input_payload = json.dumps({\n",
    "    'data': X_test[0:2].tolist(),\n",
    "})\n",
    "\n",
    "requests.post(endpoint_url, input_payload, headers={'Content-Type':'application/json'}).json()"
   ]
  },
  {
   "cell_type": "markdown",
   "id": "8120e98f-ece6-4ca8-b2ed-68588d7a00f8",
   "metadata": {},
   "source": [
    "Delete created resources. Or you could do this in Azure portal."
   ]
  },
  {
   "cell_type": "code",
   "execution_count": null,
   "id": "99c920ec-7f88-45b3-88ed-b642ae42a9da",
   "metadata": {},
   "outputs": [],
   "source": [
    "!az functionapp delete --name DiabetesInferenceFunctionApp --resource-group data-ai-academy-sept-2022"
   ]
  },
  {
   "cell_type": "code",
   "execution_count": null,
   "id": "075d1abd-69e4-4876-b667-15f8bb67b658",
   "metadata": {},
   "outputs": [],
   "source": [
    "!az storage account delete --name diabetesfunctionstorage2 --resource-group data-ai-academy-sept-2022 -y"
   ]
  },
  {
   "cell_type": "markdown",
   "id": "f196e6ca-1d0d-4176-9a23-eeb33a6cf942",
   "metadata": {},
   "source": [
    "Optional: delete local files"
   ]
  },
  {
   "cell_type": "code",
   "execution_count": null,
   "id": "4294440d-db63-4249-86b4-5ae5933133ab",
   "metadata": {},
   "outputs": [],
   "source": [
    "%cd .."
   ]
  },
  {
   "cell_type": "code",
   "execution_count": null,
   "id": "fd98bbc0-cc0c-4c70-95f6-bb68e998536c",
   "metadata": {},
   "outputs": [],
   "source": [
    "!rm -r DiabetesInferenceFunctionProject"
   ]
  },
  {
   "cell_type": "markdown",
   "id": "6cd04912-e9e3-4ce7-b10a-36d1ede2811f",
   "metadata": {
    "tags": []
   },
   "source": [
    "# Manage"
   ]
  },
  {
   "cell_type": "markdown",
   "id": "57ec4ad2-9b19-43ed-8baa-ae1e1638d08e",
   "metadata": {},
   "source": [
    "You can manage and monitor the logs of the function app on the Azure portal under Function App."
   ]
  },
  {
   "cell_type": "markdown",
   "id": "77f1b206-e6c2-4f24-9d45-d6b6363740cb",
   "metadata": {},
   "source": [
    "# References"
   ]
  },
  {
   "cell_type": "markdown",
   "id": "a7e775f6-ddd0-4175-84b4-b0fc130d73f4",
   "metadata": {},
   "source": [
    "https://docs.microsoft.com/en-us/azure/azure-functions/create-first-function-cli-python?tabs=azure-cli%2Ccmd%2Cbrowser"
   ]
  },
  {
   "cell_type": "code",
   "execution_count": null,
   "id": "c611ffed-459c-4587-8e2c-19d405118ab8",
   "metadata": {},
   "outputs": [],
   "source": []
  }
 ],
 "metadata": {
  "kernelspec": {
   "display_name": "Python 3.8 - AzureML",
   "language": "python",
   "name": "python38-azureml"
  },
  "language_info": {
   "codemirror_mode": {
    "name": "ipython",
    "version": 3
   },
   "file_extension": ".py",
   "mimetype": "text/x-python",
   "name": "python",
   "nbconvert_exporter": "python",
   "pygments_lexer": "ipython3",
   "version": "3.8.5"
  }
 },
 "nbformat": 4,
 "nbformat_minor": 5
}
