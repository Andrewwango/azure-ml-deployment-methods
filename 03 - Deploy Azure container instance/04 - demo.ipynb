{
 "cells": [
  {
   "cell_type": "markdown",
   "id": "a0180497-43fa-4572-a520-d9ccfecb521b",
   "metadata": {},
   "source": [
    "# Deploying models using a bring your own container approach (BYOC) using Docker, Azure Container Registries (ACR) and Azure Container Instances (ACI)"
   ]
  },
  {
   "cell_type": "markdown",
   "id": "3648974f-634a-4739-adaa-d9fad1fc914e",
   "metadata": {},
   "source": [
    "Method:\n",
    "1. Train scikit-learn model\n",
    "2. Create API and containerise\n",
    "3. Create container registry and push image\n",
    "4. Deploy image from ACR to a container instance on ACI"
   ]
  },
  {
   "cell_type": "markdown",
   "id": "d2c414ee-2687-4d51-afee-e09e8581346a",
   "metadata": {},
   "source": [
    "# 1. Train scikit-learn model"
   ]
  },
  {
   "cell_type": "code",
   "execution_count": null,
   "id": "3836710a-2b08-487a-a94c-cd59a6317013",
   "metadata": {},
   "outputs": [],
   "source": [
    "import numpy as np\n",
    "import sklearn\n",
    "from sklearn.linear_model import Ridge\n",
    "from sklearn.metrics import r2_score\n",
    "import joblib\n",
    "\n",
    "X_train, y_train, X_test, y_test = [np.load(\"../data/diabetes.npz\")[x] for x in (\"X_train\", \"y_train\", \"X_test\", \"y_test\")]\n",
    "\n",
    "alpha=0.1\n",
    "\n",
    "model = Ridge(alpha=alpha).fit(X_train, y_train)\n",
    "\n",
    "joblib.dump(model, \"diabetes_model.pkl\")"
   ]
  },
  {
   "cell_type": "markdown",
   "id": "d21f9931",
   "metadata": {},
   "source": [
    "# 2. Create API and containerise"
   ]
  },
  {
   "cell_type": "markdown",
   "id": "0e45147c",
   "metadata": {},
   "source": [
    "This can be infinitely configured. Here, inference is performed on the scikit-learn model using a simple FastAPI REST API which exposes the endpoint on `/`. For example, you could add load balancing by passing traffic through nginx."
   ]
  },
  {
   "cell_type": "code",
   "execution_count": null,
   "id": "325687f4",
   "metadata": {},
   "outputs": [],
   "source": [
    "%%writefile requirements.txt\n",
    "\n",
    "numpy\n",
    "scikit-learn==0.22.1\n",
    "joblib\n",
    "fastapi\n",
    "uvicorn\n",
    "pydantic"
   ]
  },
  {
   "cell_type": "code",
   "execution_count": null,
   "id": "898fac91",
   "metadata": {},
   "outputs": [],
   "source": [
    "%%writefile app.py\n",
    "from fastapi import FastAPI\n",
    "import joblib, json\n",
    "import numpy as np\n",
    "import sklearn\n",
    "from pydantic import BaseModel\n",
    "\n",
    "class InputData(BaseModel):\n",
    "    data: list\n",
    "\n",
    "app = FastAPI()\n",
    "\n",
    "@app.post(\"/\")\n",
    "async def root(inputData: InputData):\n",
    "    print(inputData)\n",
    "    pred = joblib.load('diabetes_model.pkl').predict(np.array(inputData.dict()['data']))\n",
    "    return {\"prediction\": pred.tolist()}\n"
   ]
  },
  {
   "cell_type": "code",
   "execution_count": null,
   "id": "4a11b3fe",
   "metadata": {},
   "outputs": [],
   "source": [
    "%%writefile Dockerfile\n",
    "FROM python:3.8\n",
    "WORKDIR /code\n",
    "COPY . /code\n",
    "RUN pip install -r /code/requirements.txt --trusted-host pypi.org --trusted-host files.pythonhosted.org\n",
    "CMD [\"uvicorn\",\"app:app\",\"--host\", \"0.0.0.0\", \"--port\", \"80\"]"
   ]
  },
  {
   "cell_type": "markdown",
   "id": "4a281227",
   "metadata": {},
   "source": [
    "Docker build your image. You may need to run this command in a local terminal, where Docker is running already, instead of in an Azure ML Compute. "
   ]
  },
  {
   "cell_type": "markdown",
   "id": "f5574125",
   "metadata": {},
   "source": [
    "`docker build -t andreww_byoc:0.1 .`"
   ]
  },
  {
   "cell_type": "markdown",
   "id": "41b9e63c-916b-4dee-b154-1a46bc71aa44",
   "metadata": {},
   "source": [
    "# 3. Create container registry and push image"
   ]
  },
  {
   "cell_type": "markdown",
   "id": "ecd5fad5-fe16-48a3-bc57-080f7e0f17d0",
   "metadata": {},
   "source": [
    "We need to setup the Azure CLI to get started. First update the CLI and login. Make sure you are using an account under the correct subscription (change using `--tenant <TENANT_ID>` option)."
   ]
  },
  {
   "cell_type": "markdown",
   "id": "2c3df561-98b7-4bac-9da3-fc13e0b768f3",
   "metadata": {
    "tags": []
   },
   "source": [
    "`sudo apt-get install --only-upgrade azure-cli` (or using `brew` for [mac](https://learn.microsoft.com/en-us/cli/azure/install-azure-cli-macos))\n",
    "\n",
    "`az login --tenant f2ec3ef9-cca6-46ec-be61-845d74fcae94`"
   ]
  },
  {
   "cell_type": "markdown",
   "id": "479547bd-7fc8-45c6-8842-530d3acd1e83",
   "metadata": {},
   "source": [
    "Create ACR (Azure container registry) under appropriate resource group and login to it (see Microsoft tutorial in references below for more details)"
   ]
  },
  {
   "cell_type": "markdown",
   "id": "801164ca",
   "metadata": {},
   "source": [
    "`az acr create --resource-group data-ai-academy-sept-2022 --name andrewwbyocacr --sku Basic`\n",
    "\n",
    "`az acr login --name andrewwbyocacr`"
   ]
  },
  {
   "cell_type": "markdown",
   "id": "ba19e9b3",
   "metadata": {},
   "source": [
    "Get full name of registry login server"
   ]
  },
  {
   "cell_type": "markdown",
   "id": "797a2d79",
   "metadata": {},
   "source": [
    "`az acr show --name andrewwbyocacr --query loginServer --output table`"
   ]
  },
  {
   "cell_type": "markdown",
   "id": "aca3a301",
   "metadata": {},
   "source": [
    "Tag Docker image with registry details"
   ]
  },
  {
   "cell_type": "markdown",
   "id": "006e2623",
   "metadata": {},
   "source": [
    "`docker tag andreww_byoc andrewwbyocacr.azurecr.io/andreww_byoc:v1`"
   ]
  },
  {
   "cell_type": "markdown",
   "id": "9b53507c",
   "metadata": {},
   "source": [
    "Docker push to the ACR"
   ]
  },
  {
   "cell_type": "markdown",
   "id": "126099ea",
   "metadata": {},
   "source": [
    "`docker push andrewwbyocacr.azurecr.io/andreww_byoc:v1`"
   ]
  },
  {
   "cell_type": "markdown",
   "id": "85bcdf7e-d22b-4a7a-8309-b5991164b2c4",
   "metadata": {},
   "source": [
    "# 4. Deploy image from ACR to a container instance on ACI"
   ]
  },
  {
   "cell_type": "markdown",
   "id": "dd28583e",
   "metadata": {},
   "source": [
    "You could do this with `az container create` as per the [Microsoft tutorials](https://learn.microsoft.com/en-us/azure/container-instances/container-instances-tutorial-deploy-app), but this requires configuring credentials of the login account. Much easier to do from the Azure Portal browser interface under [Container Instances](https://portal.azure.com/#view/HubsExtension/BrowseResource/resourceType/Microsoft.ContainerInstance%2FcontainerGroups). Click create, and set:\n",
    "\n",
    "- Resource group: same as one set for ACR\n",
    "- Container name: new unique name\n",
    "- Region\n",
    "- Image source: Azure Container Registry\n",
    "- Registry: one you created in ACR\n",
    "- Image + Image tag: image pushed to registry with `docker push`\n",
    "- Optional: set DNS name label under \"Networking\" for custom URL"
   ]
  },
  {
   "cell_type": "markdown",
   "id": "611f2924-82d5-489a-a6f0-da7d200324bf",
   "metadata": {},
   "source": [
    "# Test endpoint and delete"
   ]
  },
  {
   "cell_type": "markdown",
   "id": "fdf0b04f",
   "metadata": {},
   "source": [
    "Find the endpoint url by looking at the overview of the created ACI in Azure portal."
   ]
  },
  {
   "cell_type": "code",
   "execution_count": null,
   "id": "dc6858c4",
   "metadata": {},
   "outputs": [],
   "source": [
    "endpoint_url = \"http://20.26.14.47/\""
   ]
  },
  {
   "cell_type": "code",
   "execution_count": null,
   "id": "51891127-5f3e-44dc-85cb-5255592a0ded",
   "metadata": {},
   "outputs": [],
   "source": [
    "import requests\n",
    "import json\n",
    "input_payload = json.dumps({\n",
    "    'data': X_test[0:2].tolist(),\n",
    "})\n",
    "\n",
    "requests.post(endpoint_url, input_payload, headers={'Content-Type':'application/json'}).json()"
   ]
  },
  {
   "cell_type": "markdown",
   "id": "8120e98f-ece6-4ca8-b2ed-68588d7a00f8",
   "metadata": {},
   "source": [
    "Remember to stop or delete the created ACI in Azure portal!"
   ]
  },
  {
   "cell_type": "code",
   "execution_count": 1,
   "id": "fd98bbc0-cc0c-4c70-95f6-bb68e998536c",
   "metadata": {},
   "outputs": [],
   "source": [
    "!rm app.py\n",
    "!rm diabetes_model.pkl\n",
    "!rm Dockerfile\n",
    "!rm requirements.txt"
   ]
  },
  {
   "cell_type": "markdown",
   "id": "6cd04912-e9e3-4ce7-b10a-36d1ede2811f",
   "metadata": {
    "tags": []
   },
   "source": [
    "# Manage"
   ]
  },
  {
   "cell_type": "markdown",
   "id": "73496ef1",
   "metadata": {},
   "source": []
  },
  {
   "cell_type": "markdown",
   "id": "77f1b206-e6c2-4f24-9d45-d6b6363740cb",
   "metadata": {},
   "source": [
    "# References"
   ]
  },
  {
   "cell_type": "markdown",
   "id": "c611ffed-459c-4587-8e2c-19d405118ab8",
   "metadata": {},
   "source": [
    "https://learn.microsoft.com/en-us/azure/container-instances/container-instances-tutorial-prepare-acr"
   ]
  },
  {
   "cell_type": "markdown",
   "id": "466425b2",
   "metadata": {},
   "source": []
  }
 ],
 "metadata": {
  "kernelspec": {
   "display_name": "Python 3.8.13 ('test_fastapi_azure')",
   "language": "python",
   "name": "python3"
  },
  "language_info": {
   "codemirror_mode": {
    "name": "ipython",
    "version": 3
   },
   "file_extension": ".py",
   "mimetype": "text/x-python",
   "name": "python",
   "nbconvert_exporter": "python",
   "pygments_lexer": "ipython3",
   "version": "3.8.13"
  },
  "vscode": {
   "interpreter": {
    "hash": "782fd48e953cec63d24835cd9f69f02c08b9b3f71ef579afbf4f49e0429556c7"
   }
  }
 },
 "nbformat": 4,
 "nbformat_minor": 5
}
