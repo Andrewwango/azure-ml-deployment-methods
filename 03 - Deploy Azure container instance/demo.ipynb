{
 "cells": [
  {
   "cell_type": "markdown",
   "id": "a0180497-43fa-4572-a520-d9ccfecb521b",
   "metadata": {},
   "source": [
    "# Deploy to Azure Container Instance - \"Bring your own container\""
   ]
  },
  {
   "cell_type": "markdown",
   "id": "3648974f-634a-4739-adaa-d9fad1fc914e",
   "metadata": {},
   "source": [
    "Following [this tutorial](https://learn.microsoft.com/en-us/azure/container-instances/container-instances-tutorial-prepare-acr)\n",
    "\n",
    "Steps:\n",
    "\n",
    "1. Setup API and containerise\n",
    "2. Deploy model\n",
    "3. Test model\n",
    "4. Delete endpoint\n",
    "\n",
    "Model to be deployed:"
   ]
  },
  {
   "cell_type": "code",
   "execution_count": null,
   "id": "9e8c0d73-854d-41c3-9e12-fc495c3f8973",
   "metadata": {},
   "outputs": [],
   "source": [
    "model_path = \"../../models/model.pkl\""
   ]
  },
  {
   "cell_type": "code",
   "execution_count": null,
   "id": "07070c80-289b-43f9-a5f2-6fb531f12d6f",
   "metadata": {},
   "outputs": [],
   "source": [
    "resource_group = \"azure-cognitive-services-accelerator\""
   ]
  },
  {
   "cell_type": "markdown",
   "id": "d21f9931",
   "metadata": {},
   "source": [
    "## 1. Setup\n",
    "\n",
    "First, we create an image for a Docker container that wraps our model. Then, we create an Azure Container Registry (ACR) resource and push our Docker image to it.\n",
    "\n",
    "### 1.1 Create inference API\n",
    "\n",
    "This can be infinitely configured. Here, inference is performed on the scikit-learn model using a simple FastAPI REST API which exposes the endpoint on `/`. For example, you could add load balancing by passing traffic through `nginx`."
   ]
  },
  {
   "cell_type": "code",
   "execution_count": null,
   "id": "325687f4",
   "metadata": {},
   "outputs": [],
   "source": [
    "%%writefile requirements.txt\n",
    "numpy\n",
    "scikit-learn==1.2.0\n",
    "joblib\n",
    "fastapi\n",
    "uvicorn\n",
    "pydantic"
   ]
  },
  {
   "cell_type": "code",
   "execution_count": null,
   "id": "898fac91",
   "metadata": {},
   "outputs": [],
   "source": [
    "%%writefile app.py\n",
    "from fastapi import FastAPI\n",
    "import joblib, json\n",
    "import numpy as np\n",
    "import sklearn\n",
    "from pydantic import BaseModel\n",
    "\n",
    "class InputData(BaseModel):\n",
    "    data: list\n",
    "\n",
    "app = FastAPI()\n",
    "\n",
    "@app.post(\"/\")\n",
    "async def root(inputData: InputData):\n",
    "    print(inputData)\n",
    "    pred = joblib.load('model.pkl').predict(np.array(inputData.dict()['data']))\n",
    "    return {\"prediction\": pred.tolist()}\n"
   ]
  },
  {
   "cell_type": "markdown",
   "id": "e0b37209-6eec-4ed3-b236-eb784591eb64",
   "metadata": {},
   "source": [
    "### 1.2 Containerise application\n",
    "\n",
    "The Dockerfile gives Docker instructions on how to setup your Docker container's image and how it should behave at runtime. We use `uvicorn` to expose the API."
   ]
  },
  {
   "cell_type": "code",
   "execution_count": null,
   "id": "4a11b3fe",
   "metadata": {},
   "outputs": [],
   "source": [
    "%%writefile Dockerfile\n",
    "FROM python:3.10\n",
    "WORKDIR /code\n",
    "COPY . /code\n",
    "RUN pip install -r /code/requirements.txt --trusted-host pypi.org --trusted-host files.pythonhosted.org\n",
    "CMD [\"uvicorn\",\"app:app\",\"--host\", \"0.0.0.0\", \"--port\", \"80\"]"
   ]
  },
  {
   "cell_type": "markdown",
   "id": "4a281227",
   "metadata": {},
   "source": [
    "Start Docker locally and run the following command to build your image in the current folder. Docker can be downloaded from [here](https://docs.docker.com/get-docker)."
   ]
  },
  {
   "cell_type": "code",
   "execution_count": null,
   "id": "e1e5d731-7fca-49f9-bace-e72e6a570fb2",
   "metadata": {
    "scrolled": true,
    "tags": []
   },
   "outputs": [],
   "source": [
    "!docker build -t sample_project:0.1 ."
   ]
  },
  {
   "cell_type": "markdown",
   "id": "7ef49b9b-73a0-4503-8a13-4dd8507d2fae",
   "metadata": {},
   "source": [
    "### 1.3 Create ACR resource"
   ]
  },
  {
   "cell_type": "code",
   "execution_count": null,
   "id": "5bdea5ff-ddcd-4062-9a3f-cfaeb70329b4",
   "metadata": {
    "tags": []
   },
   "outputs": [],
   "source": [
    "!az acr create --resource-group $resource_group --name sampleprojectacr --sku Basic"
   ]
  },
  {
   "cell_type": "code",
   "execution_count": null,
   "id": "ef8604cf-9f99-413f-949d-3a2d1e9642da",
   "metadata": {},
   "outputs": [],
   "source": [
    "!az acr login --name sampleprojectacr"
   ]
  },
  {
   "cell_type": "markdown",
   "id": "ba19e9b3",
   "metadata": {},
   "source": [
    "Get full name of registry login server"
   ]
  },
  {
   "cell_type": "code",
   "execution_count": null,
   "id": "9ce38749-985b-42a4-b354-921691205606",
   "metadata": {},
   "outputs": [],
   "source": [
    "!az acr show --name sampleprojectacr --query loginServer --output table"
   ]
  },
  {
   "cell_type": "markdown",
   "id": "aca3a301",
   "metadata": {},
   "source": [
    "### 1.4 Push Docker image\n",
    "\n",
    "Tag Docker image with details of registry server"
   ]
  },
  {
   "cell_type": "code",
   "execution_count": null,
   "id": "a5e48412-27d6-4211-a4eb-8614610f00fd",
   "metadata": {},
   "outputs": [],
   "source": [
    "!docker tag sample_project:0.1 sampleprojectacr.azurecr.io/sample_project:0.1"
   ]
  },
  {
   "cell_type": "markdown",
   "id": "9b53507c",
   "metadata": {},
   "source": [
    "Push Docker image to the ACR"
   ]
  },
  {
   "cell_type": "code",
   "execution_count": null,
   "id": "522e09a2-a3ea-4c6c-8010-04e3ee25c4d3",
   "metadata": {},
   "outputs": [],
   "source": [
    "!docker push sampleprojectacr.azurecr.io/sample_project:0.1"
   ]
  },
  {
   "cell_type": "markdown",
   "id": "0afaa65d-c1a9-4231-a478-0ee39ed06905",
   "metadata": {},
   "source": [
    "Enable admin access to ACR [as per here](https://learn.microsoft.com/en-us/azure/container-registry/container-registry-authentication?tabs=azure-cli#admin-account)"
   ]
  },
  {
   "cell_type": "code",
   "execution_count": null,
   "id": "8bc5e697-700f-4c6d-bc7f-e69d79d5d55e",
   "metadata": {
    "tags": []
   },
   "outputs": [],
   "source": [
    "!az acr update -n sampleprojectacr --admin-enabled true"
   ]
  },
  {
   "cell_type": "markdown",
   "id": "85bcdf7e-d22b-4a7a-8309-b5991164b2c4",
   "metadata": {},
   "source": [
    "## 2. Deploy image from ACR to a container instance on ACI"
   ]
  },
  {
   "cell_type": "markdown",
   "id": "dd28583e",
   "metadata": {},
   "source": [
    "You could do this programmatically with `az container create` as per the [Microsoft tutorials](https://learn.microsoft.com/en-us/azure/container-instances/container-instances-tutorial-deploy-app), but this requires configuring credentials of the registry login account. For the demo, it's much easier to do from the Azure Portal browser interface under [Container Instances](https://portal.azure.com/#view/HubsExtension/BrowseResource/resourceType/Microsoft.ContainerInstance%2FcontainerGroups). Click `Create`, and set:\n",
    "\n",
    "- Resource group: same as above\n",
    "- Container name: new unique name\n",
    "- Region: `uksouth`\n",
    "- Image source: Azure Container Registry\n",
    "- Registry: `sampleprojectacr`\n",
    "- Image + Image tag: `sampleprojectacr.azurecr.io/sample_project:v1`\n",
    "- Optional: set DNS name label under \"Networking\" for custom URL"
   ]
  },
  {
   "cell_type": "code",
   "execution_count": null,
   "id": "c273efd0-2482-452f-a5f6-ff76bd0064d5",
   "metadata": {},
   "outputs": [],
   "source": [
    "container_name = \"sampleprojectaci\""
   ]
  },
  {
   "cell_type": "markdown",
   "id": "611f2924-82d5-489a-a6f0-da7d200324bf",
   "metadata": {},
   "source": [
    "## 3. Test endpoint"
   ]
  },
  {
   "cell_type": "markdown",
   "id": "fdf0b04f",
   "metadata": {},
   "source": [
    "Find container endpoint IP from Azure portal, or access using the command line:"
   ]
  },
  {
   "cell_type": "code",
   "execution_count": null,
   "id": "785a6daf-8cb1-4728-b81d-f14ecc7c5bee",
   "metadata": {},
   "outputs": [],
   "source": [
    "endpoint_url = !az container show --name $container_name --resource-group $resource_group --query ipAddress.ip"
   ]
  },
  {
   "cell_type": "code",
   "execution_count": null,
   "id": "66469ee6-5685-4a2f-8a4c-e94ecf90e84b",
   "metadata": {},
   "outputs": [],
   "source": [
    "endpoint_url = \"http://\" + endpoint_url[0][1:-1]"
   ]
  },
  {
   "cell_type": "code",
   "execution_count": null,
   "id": "51891127-5f3e-44dc-85cb-5255592a0ded",
   "metadata": {
    "tags": []
   },
   "outputs": [],
   "source": [
    "import requests\n",
    "import json\n",
    "import numpy as np\n",
    "\n",
    "input_payload = json.dumps({\n",
    "    'data': np.load(\"../data/diabetes.npz\")[\"X_test\"][:2].tolist(),\n",
    "})\n",
    "\n",
    "requests.post(endpoint_url, input_payload, headers={'Content-Type':'application/json'}).json()"
   ]
  },
  {
   "cell_type": "markdown",
   "id": "e8de7997-4602-4a6e-a347-6cbdd7592647",
   "metadata": {},
   "source": [
    "## 4. Delete container and registry"
   ]
  },
  {
   "cell_type": "code",
   "execution_count": null,
   "id": "abb75135-556c-4de6-8890-42ab3d279f5f",
   "metadata": {
    "tags": []
   },
   "outputs": [],
   "source": [
    "!az container delete --name $container_name --resource-group $resource_group --yes"
   ]
  },
  {
   "cell_type": "code",
   "execution_count": null,
   "id": "a730f2c6-1e77-4e91-940a-1af3597a8db1",
   "metadata": {},
   "outputs": [],
   "source": [
    "!az acr delete --name sampleprojectacr --resource-group $resource_group --yes"
   ]
  },
  {
   "cell_type": "code",
   "execution_count": null,
   "id": "b2af256e-ddf4-4701-b0b0-5039dc16dbb6",
   "metadata": {},
   "outputs": [],
   "source": [
    "!rm app.py\n",
    "!rm Dockerfile\n",
    "!rm requirements.txt"
   ]
  }
 ],
 "metadata": {
  "kernelspec": {
   "display_name": "Python 3 (ipykernel)",
   "language": "python",
   "name": "python3"
  },
  "language_info": {
   "codemirror_mode": {
    "name": "ipython",
    "version": 3
   },
   "file_extension": ".py",
   "mimetype": "text/x-python",
   "name": "python",
   "nbconvert_exporter": "python",
   "pygments_lexer": "ipython3",
   "version": "3.10.8"
  },
  "vscode": {
   "interpreter": {
    "hash": "782fd48e953cec63d24835cd9f69f02c08b9b3f71ef579afbf4f49e0429556c7"
   }
  }
 },
 "nbformat": 4,
 "nbformat_minor": 5
}
