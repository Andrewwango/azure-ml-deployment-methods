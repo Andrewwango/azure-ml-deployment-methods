{
 "cells": [
  {
   "cell_type": "markdown",
   "id": "175d57d1-a8c1-444e-a964-97811fe56de3",
   "metadata": {},
   "source": [
    "# Sample model: download from external MLFLow"
   ]
  },
  {
   "cell_type": "markdown",
   "id": "4a46e9d3-0f58-4cd1-9061-6b4af5ec2062",
   "metadata": {},
   "source": [
    "Download a model tracked in an external MLFlow. This is currently the only way to get a model from an external model registry into Azure deployment."
   ]
  },
  {
   "cell_type": "code",
   "execution_count": null,
   "id": "387c48ab-8c03-4a7f-ad55-f74478778cb4",
   "metadata": {},
   "outputs": [],
   "source": [
    "import mlflow\n",
    "import joblib, os"
   ]
  },
  {
   "cell_type": "markdown",
   "id": "a201bd55-7623-443a-869d-660bf247a355",
   "metadata": {},
   "source": [
    "If needed, set AWS credentials in local environment to access MLFlow on AWS"
   ]
  },
  {
   "cell_type": "code",
   "execution_count": null,
   "id": "ac4839ac-4436-4653-8a9d-b407dcab1919",
   "metadata": {},
   "outputs": [],
   "source": [
    "#os.environ[\"AWS_ACCESS_KEY_ID\"] = \"\"\n",
    "#os.environ[\"AWS_SECRET_ACCESS_KEY\"] = \"\""
   ]
  },
  {
   "cell_type": "code",
   "execution_count": null,
   "id": "e295f937-78ff-4c91-bc15-c2437c7fea5e",
   "metadata": {},
   "outputs": [],
   "source": [
    "mlflow.set_tracking_uri(\"http://andre-mlflo-a3oi3g4g7sh1-6b98eef0c99b7004.elb.eu-central-1.amazonaws.com\")\n",
    "model = mlflow.sklearn.load_model(f\"models:/diabetes/1\")\n",
    "\n",
    "joblib.dump(model, \"model.pkl\")"
   ]
  }
 ],
 "metadata": {
  "kernelspec": {
   "display_name": "Python 3 (ipykernel)",
   "language": "python",
   "name": "python3"
  },
  "language_info": {
   "codemirror_mode": {
    "name": "ipython",
    "version": 3
   },
   "file_extension": ".py",
   "mimetype": "text/x-python",
   "name": "python",
   "nbconvert_exporter": "python",
   "pygments_lexer": "ipython3",
   "version": "3.11.5"
  }
 },
 "nbformat": 4,
 "nbformat_minor": 5
}
