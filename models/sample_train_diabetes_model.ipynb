{
 "cells": [
  {
   "cell_type": "markdown",
   "id": "8fb41ce2-c04a-4138-855a-1d8ddfcddbd3",
   "metadata": {},
   "source": [
    "# Sample model training: diabetes dataset classification\n",
    "\n",
    "This notebook trains a sample model using the [diabetes toy problem](https://scikit-learn.org/stable/datasets/toy_dataset.html#diabetes-dataset), and saves a model artifact into this folder."
   ]
  },
  {
   "cell_type": "code",
   "execution_count": 2,
   "id": "44dc44db-e1da-42a2-a29e-3d3a844957fb",
   "metadata": {},
   "outputs": [],
   "source": [
    "import joblib\n",
    "import numpy as np\n",
    "from sklearn.datasets import load_diabetes\n",
    "from sklearn.model_selection import train_test_split\n",
    "from sklearn.linear_model import Ridge\n",
    "from sklearn.metrics import r2_score"
   ]
  },
  {
   "cell_type": "markdown",
   "id": "c55bf56d-448c-48a1-b94f-84752d289de6",
   "metadata": {},
   "source": [
    "## 1. Download data"
   ]
  },
  {
   "cell_type": "code",
   "execution_count": 3,
   "id": "84466398-39fc-4ed8-a9a3-373728d2dcb5",
   "metadata": {},
   "outputs": [],
   "source": [
    "X, y = load_diabetes(return_X_y=True)\n",
    "X_train, X_test, y_train, y_test = train_test_split(X, y, test_size=0.2, random_state=0)\n",
    "\n",
    "np.savez(\"../data/diabetes.npz\", X_train=X_train, X_test=X_test, y_train=y_train, y_test=y_test)"
   ]
  },
  {
   "cell_type": "markdown",
   "id": "6c0ae5bb-2714-4ab3-a614-e5db8aa3e8a7",
   "metadata": {},
   "source": [
    "## 2. Train model"
   ]
  },
  {
   "cell_type": "code",
   "execution_count": 4,
   "id": "54916366-417a-40d8-a478-4f41d4cf9563",
   "metadata": {},
   "outputs": [],
   "source": [
    "X_train, y_train, X_test, y_test = [np.load(\"../data/diabetes.npz\")[x] for x in (\"X_train\", \"y_train\", \"X_test\", \"y_test\")]\n",
    "\n",
    "alpha=0.1\n",
    "\n",
    "model = Ridge(alpha=alpha).fit(X_train, y_train)"
   ]
  },
  {
   "cell_type": "markdown",
   "id": "7e6d371e-ca87-474e-abcb-a67e73f3f4ac",
   "metadata": {},
   "source": [
    "## 3. Save model"
   ]
  },
  {
   "cell_type": "code",
   "execution_count": 5,
   "id": "edca8c60-8398-4833-9792-55fee1cfb402",
   "metadata": {},
   "outputs": [
    {
     "data": {
      "text/plain": [
       "['model.pkl']"
      ]
     },
     "execution_count": 5,
     "metadata": {},
     "output_type": "execute_result"
    }
   ],
   "source": [
    "joblib.dump(model, \"model.pkl\")"
   ]
  },
  {
   "cell_type": "code",
   "execution_count": null,
   "id": "ad98814d-c5b9-480b-bed3-027531f444b8",
   "metadata": {},
   "outputs": [],
   "source": []
  }
 ],
 "metadata": {
  "kernelspec": {
   "display_name": "Python 3 (ipykernel)",
   "language": "python",
   "name": "python3"
  },
  "language_info": {
   "codemirror_mode": {
    "name": "ipython",
    "version": 3
   },
   "file_extension": ".py",
   "mimetype": "text/x-python",
   "name": "python",
   "nbconvert_exporter": "python",
   "pygments_lexer": "ipython3",
   "version": "3.10.8"
  }
 },
 "nbformat": 4,
 "nbformat_minor": 5
}
