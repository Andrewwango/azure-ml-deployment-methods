{
 "cells": [
  {
   "cell_type": "markdown",
   "id": "a0180497-43fa-4572-a520-d9ccfecb521b",
   "metadata": {},
   "source": [
    "# Deploy to Azure Function App - serverless approach\n",
    "\n",
    "Following [this tutorial](https://docs.microsoft.com/en-us/azure/azure-functions/create-first-function-cli-python?tabs=azure-cli%2Ccmd%2Cbrowser).\n",
    "\n",
    "Steps:\n",
    "\n",
    "1. Setup\n",
    "2. Deploy model\n",
    "3. Test model\n",
    "4. Delete endpoint\n",
    "\n",
    "Model to be deployed:"
   ]
  },
  {
   "cell_type": "code",
   "execution_count": null,
   "id": "aab6c174-63fb-4d3d-8c50-4b2b12eb19a1",
   "metadata": {},
   "outputs": [],
   "source": [
    "model_path = \"../../models/model.pkl\""
   ]
  },
  {
   "cell_type": "code",
   "execution_count": null,
   "id": "ade68a04-9591-479a-b668-7e3996221146",
   "metadata": {},
   "outputs": [],
   "source": [
    "resource_group = \"azure-cognitive-services-accelerator\""
   ]
  },
  {
   "cell_type": "markdown",
   "id": "41b9e63c-916b-4dee-b154-1a46bc71aa44",
   "metadata": {},
   "source": [
    "## 1. Setup\n",
    "### 1.1 Setup Azure Functions CLI"
   ]
  },
  {
   "cell_type": "markdown",
   "id": "351a6aa7-7f6d-49ed-8fa5-31008338b017",
   "metadata": {},
   "source": [
    "Install Azure Functions CLI package following [the docs](https://learn.microsoft.com/en-us/azure/azure-functions/functions-run-local?tabs=v4%2Cmacos%2Ccsharp%2Cportal%2Cbash#install-the-azure-functions-core-tools) (you may need `xcode-select --install` too):"
   ]
  },
  {
   "cell_type": "code",
   "execution_count": null,
   "id": "829db22b-b7de-419a-8349-c7801c88b200",
   "metadata": {
    "tags": []
   },
   "outputs": [],
   "source": [
    "!brew tap azure/functions"
   ]
  },
  {
   "cell_type": "code",
   "execution_count": null,
   "id": "037b6ed9-074b-4ef2-913e-1daae9f7db63",
   "metadata": {},
   "outputs": [],
   "source": [
    "!brew install azure-functions-core-tools@4"
   ]
  },
  {
   "cell_type": "markdown",
   "id": "7346ba35-10c5-40dd-87de-a1b72e310287",
   "metadata": {},
   "source": [
    "### 1.2 Setup location Azure Function\n",
    "\n",
    "Initialise local function project folder:"
   ]
  },
  {
   "cell_type": "code",
   "execution_count": null,
   "id": "07e54614-c3eb-41c0-a2f5-62110340776a",
   "metadata": {
    "tags": []
   },
   "outputs": [],
   "source": [
    "!func init sample_project --python"
   ]
  },
  {
   "cell_type": "code",
   "execution_count": null,
   "id": "89cbfa23-22bf-4901-8162-4568c14d3cc9",
   "metadata": {},
   "outputs": [],
   "source": [
    "%cd sample_project"
   ]
  },
  {
   "cell_type": "markdown",
   "id": "163efa85-c0c2-4156-b95e-0b91ba54eba7",
   "metadata": {},
   "source": [
    "Create new function that is triggered by HTTP:"
   ]
  },
  {
   "cell_type": "code",
   "execution_count": null,
   "id": "69c9389f-2452-454f-94f5-3efe1983b570",
   "metadata": {
    "tags": []
   },
   "outputs": [],
   "source": [
    "!func new --name sample_endpoint --template \"HTTP trigger\" --authlevel \"anonymous\" --worker-runtime python"
   ]
  },
  {
   "cell_type": "markdown",
   "id": "6b42e891-fc48-4170-bc67-b6ee13297a30",
   "metadata": {},
   "source": [
    "Copy scikit-learn model and add inferencing script + dependencies. Make sure scikit-learn is same version in which model was created otherwise may get compatibility errors (e.g. see [here](https://github.com/scikit-learn/scikit-learn/issues/24387) for common scikit-learn error and see [here](https://github.com/scikit-image/scikit-image/issues/5060) for a python3.8 vs 3.9 issue for older sklearn versions)"
   ]
  },
  {
   "cell_type": "code",
   "execution_count": null,
   "id": "fc1ab04d-d697-4a75-9c12-39c49b36c85a",
   "metadata": {},
   "outputs": [],
   "source": [
    "!cp $model_path sample_endpoint"
   ]
  },
  {
   "cell_type": "code",
   "execution_count": null,
   "id": "675a0cec-7261-4c52-85bf-ecba18d44901",
   "metadata": {
    "tags": []
   },
   "outputs": [],
   "source": [
    "%%writefile -a requirements.txt\n",
    "\n",
    "scikit-learn==1.2.0"
   ]
  },
  {
   "cell_type": "code",
   "execution_count": null,
   "id": "d0976eb4-d24f-426b-9e27-ab54ce333c90",
   "metadata": {},
   "outputs": [],
   "source": [
    "%%writefile sample_endpoint/__init__.py\n",
    "import azure.functions as func\n",
    "import numpy as np\n",
    "import logging, sklearn, joblib, json\n",
    "\n",
    "def main(req: func.HttpRequest) -> func.HttpResponse:\n",
    "    logging.info(sklearn.__version__) # check this matches sklearn version in which model was trained\n",
    "    pred = joblib.load('sample_endpoint/model.pkl').predict(np.array(req.get_json()['data']))\n",
    "    return func.HttpResponse(json.dumps({\"prediction\": pred.tolist()}))"
   ]
  },
  {
   "cell_type": "markdown",
   "id": "9d52c422-51a3-4243-924e-d08d91ff10e5",
   "metadata": {
    "tags": []
   },
   "source": [
    "Optional: test model locally using `func start` in a new terminal and query local API with requests in Test section below."
   ]
  },
  {
   "cell_type": "markdown",
   "id": "85bcdf7e-d22b-4a7a-8309-b5991164b2c4",
   "metadata": {},
   "source": [
    "### 1.3 Create resources: Azure Function App and Storage Account"
   ]
  },
  {
   "cell_type": "markdown",
   "id": "fbcbeb4b-e1c0-4d9c-ac39-dd1d9dd706cc",
   "metadata": {},
   "source": [
    "Create storage account under appropriate resource group (ideally keep all assets under same resource group for cost tracking).\n",
    "\n",
    "**Note** that storage account and function app can't include `_` in their names, and function app creation fails silently if you don't follow this."
   ]
  },
  {
   "cell_type": "code",
   "execution_count": null,
   "id": "15cadd18-ef4c-46d8-99bc-92469467ecc4",
   "metadata": {
    "tags": []
   },
   "outputs": [],
   "source": [
    "!az storage account create --name sampleprojectstorage --resource-group $resource_group --sku Standard_LRS"
   ]
  },
  {
   "cell_type": "markdown",
   "id": "e5014d41-b77b-4b00-8951-08d022ace124",
   "metadata": {},
   "source": [
    "Create function app under same resource group and location. Check that runtime-version is the same as python version in which model was created/compatible with the sklearn version."
   ]
  },
  {
   "cell_type": "code",
   "execution_count": null,
   "id": "058ba6f5-6548-4b2f-813e-708764e3ce8f",
   "metadata": {
    "scrolled": true,
    "tags": []
   },
   "outputs": [],
   "source": [
    "!az functionapp create --resource-group $resource_group --consumption-plan-location uksouth --runtime python --runtime-version 3.10 --functions-version 4 --name sampleprojectapp --os-type linux --storage-account sampleprojectstorage"
   ]
  },
  {
   "cell_type": "markdown",
   "id": "4b3b787e-0234-4f1d-a493-93c0dc17749c",
   "metadata": {
    "tags": []
   },
   "source": [
    "Use `!az functionapp update --resource-group $resource_group --name sample_project` to rerun the above command."
   ]
  },
  {
   "cell_type": "markdown",
   "id": "16bd074b-8c39-4903-a3ec-64592be0d48e",
   "metadata": {},
   "source": [
    "## 2. Deploy model"
   ]
  },
  {
   "cell_type": "markdown",
   "id": "7a686887-3dee-4fc1-9045-c211bc9688db",
   "metadata": {},
   "source": [
    "Publish function app (i.e. deploy). If first time results in Deploy Failed, just try rerunning the command (**shrugs shoulders**). Take note of the invoke URL at the end for API queries."
   ]
  },
  {
   "cell_type": "code",
   "execution_count": null,
   "id": "d423113b-dce7-46f9-8808-bf2185096d33",
   "metadata": {
    "scrolled": true,
    "tags": []
   },
   "outputs": [],
   "source": [
    "!func azure functionapp publish sampleprojectapp"
   ]
  },
  {
   "cell_type": "code",
   "execution_count": null,
   "id": "d9250da6-6440-4d00-91af-2b4f2eab0f7e",
   "metadata": {},
   "outputs": [],
   "source": [
    "endpoint_url = \"https://sampleprojectapp.azurewebsites.net/api/sample_endpoint\""
   ]
  },
  {
   "cell_type": "markdown",
   "id": "611f2924-82d5-489a-a6f0-da7d200324bf",
   "metadata": {},
   "source": [
    "## 3. Test endpoint\n",
    "\n",
    "You can manage and monitor the logs of the function app on the Azure portal under Function App."
   ]
  },
  {
   "cell_type": "code",
   "execution_count": null,
   "id": "51891127-5f3e-44dc-85cb-5255592a0ded",
   "metadata": {},
   "outputs": [],
   "source": [
    "import requests\n",
    "import json\n",
    "import numpy as np\n",
    "\n",
    "input_payload = json.dumps({\n",
    "    'data': np.load(\"../../data/diabetes.npz\")[\"X_test\"][:2].tolist(),\n",
    "})\n",
    "\n",
    "requests.post(endpoint_url, input_payload, headers={'Content-Type':'application/json'}).json()"
   ]
  },
  {
   "cell_type": "markdown",
   "id": "8120e98f-ece6-4ca8-b2ed-68588d7a00f8",
   "metadata": {},
   "source": [
    "## 4. Delete endpoint\n",
    "\n",
    "Delete created resources. Or you could do this in Azure portal."
   ]
  },
  {
   "cell_type": "code",
   "execution_count": null,
   "id": "99c920ec-7f88-45b3-88ed-b642ae42a9da",
   "metadata": {},
   "outputs": [],
   "source": [
    "!az functionapp delete --name sampleprojectapp --resource-group $resource_group"
   ]
  },
  {
   "cell_type": "code",
   "execution_count": null,
   "id": "075d1abd-69e4-4876-b667-15f8bb67b658",
   "metadata": {},
   "outputs": [],
   "source": [
    "!az storage account delete --name sampleprojectstorage --resource-group $resource_group -y"
   ]
  },
  {
   "cell_type": "markdown",
   "id": "f196e6ca-1d0d-4176-9a23-eeb33a6cf942",
   "metadata": {},
   "source": [
    "Optional: delete local files"
   ]
  },
  {
   "cell_type": "code",
   "execution_count": null,
   "id": "4294440d-db63-4249-86b4-5ae5933133ab",
   "metadata": {},
   "outputs": [],
   "source": [
    "%cd .."
   ]
  },
  {
   "cell_type": "code",
   "execution_count": null,
   "id": "fd98bbc0-cc0c-4c70-95f6-bb68e998536c",
   "metadata": {},
   "outputs": [],
   "source": [
    "!rm -r sample_project"
   ]
  }
 ],
 "metadata": {
  "kernelspec": {
   "display_name": "Python 3 (ipykernel)",
   "language": "python",
   "name": "python3"
  },
  "language_info": {
   "codemirror_mode": {
    "name": "ipython",
    "version": 3
   },
   "file_extension": ".py",
   "mimetype": "text/x-python",
   "name": "python",
   "nbconvert_exporter": "python",
   "pygments_lexer": "ipython3",
   "version": "3.10.8"
  }
 },
 "nbformat": 4,
 "nbformat_minor": 5
}
