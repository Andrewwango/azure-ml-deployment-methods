{
 "cells": [
  {
   "cell_type": "code",
   "execution_count": null,
   "id": "4dbf3536-321c-4255-92c6-82730a4e20ca",
   "metadata": {},
   "outputs": [],
   "source": [
    "from azureml.core import Workspace\n",
    "ws = Workspace.from_config()"
   ]
  },
  {
   "cell_type": "code",
   "execution_count": null,
   "id": "ce489b1f-9e34-436e-a52e-7fea25d039af",
   "metadata": {},
   "outputs": [],
   "source": [
    "from azureml.core import Experiment\n",
    "\n",
    "experiment = Experiment(workspace=ws, name=\"train-diabetes-regression\")\n",
    "run = experiment.start_logging()\n",
    "\n",
    "run.log('alpha', alpha)\n",
    "run.log('R2', r2_score(y_test, model.predict(X_test)))\n",
    "run.upload_file(name=\"diabetes_model.pkl\", path_or_stream=\"./diabetes_model.pkl\")\n",
    "\n",
    "run.complete()"
   ]
  }
 ],
 "metadata": {
  "kernelspec": {
   "display_name": "Python 3 (ipykernel)",
   "language": "python",
   "name": "python3"
  },
  "language_info": {
   "codemirror_mode": {
    "name": "ipython",
    "version": 3
   },
   "file_extension": ".py",
   "mimetype": "text/x-python",
   "name": "python",
   "nbconvert_exporter": "python",
   "pygments_lexer": "ipython3",
   "version": "3.10.8"
  }
 },
 "nbformat": 4,
 "nbformat_minor": 5
}
